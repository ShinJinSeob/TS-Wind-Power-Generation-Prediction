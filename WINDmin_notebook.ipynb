{
 "cells": [
  {
   "cell_type": "markdown",
   "metadata": {
    "id": "nui2WCJHIU5j"
   },
   "source": [
    "# 0. 패키지 로드"
   ]
  },
  {
   "cell_type": "code",
   "execution_count": 1,
   "metadata": {
    "id": "tMcdA_-343zs"
   },
   "outputs": [],
   "source": [
    "import os\n",
    "import numpy as np\n",
    "import pandas as pd\n",
    "from sklearn.preprocessing import StandardScaler\n",
    "from sklearn.preprocessing import PolynomialFeatures\n",
    "from sklearn.linear_model import QuantileRegressor\n",
    "import matplotlib.pyplot as plt\n",
    "from matplotlib.ticker import MultipleLocator\n",
    "import seaborn as sns\n",
    "import pickle\n",
    "import warnings\n",
    "warnings.filterwarnings(\"ignore\", category=UserWarning, module='openpyxl')"
   ]
  },
  {
   "cell_type": "code",
   "execution_count": 2,
   "metadata": {
    "id": "SEyzAl4f5QlL"
   },
   "outputs": [],
   "source": [
    "def uv_to_wsd(u_wind_speed, v_wind_speed):\n",
    "\n",
    "    u_ws = u_wind_speed.to_numpy()\n",
    "    v_ws = v_wind_speed.to_numpy()\n",
    "\n",
    "    wind_speed = np.nansum([u_ws**2, v_ws**2], axis=0)**(1/2.)\n",
    "\n",
    "    wind_direction = np.rad2deg(np.arctan2(v_ws, u_ws+1e-6))\n",
    "    wind_direction[wind_direction < 0] += 360\n",
    "\n",
    "    wind_direction = 270 - wind_direction\n",
    "    wind_direction[wind_direction < 0] += 360\n",
    "\n",
    "    return wind_speed, wind_direction"
   ]
  },
  {
   "cell_type": "code",
   "execution_count": 5,
   "metadata": {
    "id": "KY3UFijmIU5z"
   },
   "outputs": [],
   "source": [
    "'''\n",
    "path 설정 !!!!!!!!!!!!!!!!!!!!!!!!!!!!!!!!!!!!!!!!!\n",
    "'''\n",
    "path ="
   ]
  },
  {
   "cell_type": "markdown",
   "metadata": {
    "id": "WcGgAqNu5mEp"
   },
   "source": [
    "# 1. 영광"
   ]
  },
  {
   "cell_type": "markdown",
   "metadata": {
    "id": "i243BCqcIU52"
   },
   "source": [
    "## 1-1 20-22년도 발전량 학습"
   ]
  },
  {
   "cell_type": "markdown",
   "metadata": {
    "id": "WXJcrbg2IU53"
   },
   "source": [
    "### (1) feature 데이터 불러오기 및 변수 선택"
   ]
  },
  {
   "cell_type": "code",
   "execution_count": 48,
   "metadata": {
    "id": "Jt1uoYcI5ZW7"
   },
   "outputs": [],
   "source": [
    "# 20-22년도 데이터\n",
    "df_feature = pd.read_pickle(os.path.join(path, \"1-3. train_ldaps_yeonggwang.pkl\"))\n",
    "\n",
    "# wind_speed 변수 추출\n",
    "df_feature[\"wind_speed\"], df_feature[\"wind_direction\"] = uv_to_wsd(\n",
    "    df_feature[\"wind_u_10m\"], df_feature[\"wind_v_10m\"])\n",
    "\n",
    "df_feature[\"storm_speed\"], df_feature[\"storm_direction\"] = uv_to_wsd(\n",
    "    df_feature[\"storm_u_5m\"], df_feature[\"storm_v_5m\"])\n",
    "\n",
    "\n",
    "\n",
    "# 변수 선택\n",
    "df_x = df_feature.loc[:,['specific_humid', 'temp_air', 'wind_speed', 'wind_u_10m', 'storm_u_5m', 'turbine_id']]\n",
    "\n",
    "# 월, 시간 변수 추출\n",
    "df_x['month'] = df_x.index.month.astype('category')\n",
    "df_x['hour'] = df_x.index.hour.astype('category')"
   ]
  },
  {
   "cell_type": "markdown",
   "metadata": {
    "id": "6UdKgsBMIU57"
   },
   "source": [
    "### (2) target 데이터 불러오기"
   ]
  },
  {
   "cell_type": "code",
   "execution_count": 50,
   "metadata": {
    "id": "JhrPh-cc54oE"
   },
   "outputs": [],
   "source": [
    "# 20-22년도 발전량\n",
    "train_y = pd.read_csv(os.path.join(path, \"1-1. train_y.csv\"))\n",
    "train_y.end_datetime = pd.to_datetime(\n",
    "    train_y.end_datetime\n",
    ").dt.tz_convert(\"Asia/Seoul\")\n",
    "\n",
    "yg_y = train_y[train_y.plant_name == \"영광풍력\"]\n",
    "true_y = yg_y.copy()[[\"end_datetime\", \"energy_kwh\"]]"
   ]
  },
  {
   "cell_type": "code",
   "execution_count": 17,
   "metadata": {
    "id": "Wjvo_l3c6CPs"
   },
   "outputs": [],
   "source": [
    "# 수치형 변수 시간별 평균\n",
    "wind_mean = df_x.groupby(df_x.index)['wind_speed'].mean().to_frame(name='wind_mean')\n",
    "temp_mean = df_x.groupby(df_x.index)['temp_air'].mean().to_frame(name='temp_mean')\n",
    "humi_mean = df_x.groupby(df_x.index)['specific_humid'].mean().to_frame(name='humi_mean')\n",
    "uwin_mean = df_x.groupby(df_x.index)['wind_u_10m'].mean().to_frame(name='uwin_mean')\n",
    "usto_mean = df_x.groupby(df_x.index)['storm_u_5m'].mean().to_frame(name='usto_mean')"
   ]
  },
  {
   "cell_type": "code",
   "execution_count": 19,
   "metadata": {
    "id": "uiJtTJS36D_T"
   },
   "outputs": [],
   "source": [
    "# 시간별 평균값으로 구성된 데이터프레임\n",
    "ew = yg_y.merge(\n",
    "    temp_mean.reset_index(),\n",
    "    left_on=\"end_datetime\",\n",
    "    right_on=\"dt\"\n",
    ").merge(\n",
    "    humi_mean.reset_index(),\n",
    "    on=\"dt\"\n",
    ").merge(\n",
    "    wind_mean.reset_index(),\n",
    "    on=\"dt\"\n",
    ").merge(\n",
    "    uwin_mean.reset_index(),\n",
    "    on=\"dt\"\n",
    ").merge(\n",
    "    usto_mean.reset_index(),\n",
    "    on=\"dt\"\n",
    ")[[\"dt\", \"energy_kwh\", \"temp_mean\", \"humi_mean\", \"wind_mean\", \"uwin_mean\", \"usto_mean\"]]\n",
    "ew['month'] = ew['dt'].dt.month.astype('category')\n",
    "ew['hour'] = ew['dt'].dt.hour.astype('category')"
   ]
  },
  {
   "cell_type": "markdown",
   "metadata": {
    "id": "oBbV21s8IU5-"
   },
   "source": [
    "### (3) 스케일링 및 학습"
   ]
  },
  {
   "cell_type": "code",
   "execution_count": null,
   "metadata": {
    "colab": {
     "base_uri": "https://localhost:8080/",
     "height": 80
    },
    "id": "akcYAvHL6GfL",
    "outputId": "6e35e518-f651-4023-bbc8-be4478b62375"
   },
   "outputs": [],
   "source": [
    "# 데이터 준비\n",
    "X = ew[[\"temp_mean\", \"humi_mean\", \"wind_mean\", \"uwin_mean\", \"usto_mean\"]].values\n",
    "y = ew['energy_kwh'].values\n",
    "\n",
    "scaler_X = StandardScaler()\n",
    "X_scaled = scaler_X.fit_transform(X)  # 독립변수 표준화\n",
    "\n",
    "# 4차 다항 변환\n",
    "poly = PolynomialFeatures(degree=4)\n",
    "X_poly = poly.fit_transform(X_scaled)\n",
    "\n",
    "# 발전량 학습\n",
    "model = QuantileRegressor(quantile=0.5, alpha=0, solver='highs')\n",
    "model.fit(X_poly, y)"
   ]
  },
  {
   "cell_type": "markdown",
   "metadata": {
    "id": "u3SVplYgIU6A"
   },
   "source": [
    "### (4) 예측"
   ]
  },
  {
   "cell_type": "code",
   "execution_count": null,
   "metadata": {
    "id": "52Ek62TS709z"
   },
   "outputs": [],
   "source": [
    "ls_pred = []\n",
    "\n",
    "# 터빈별로 데이터를 나누어 20-22년도 발전량 예측\n",
    "for turb in df_x['turbine_id'].unique():\n",
    "    # 해당 터빈의 데이터 선택\n",
    "    cur_x = df_x[df_x['turbine_id'] == turb][['temp_air', 'specific_humid', 'wind_speed', 'wind_u_10m', 'storm_u_5m']].copy().values\n",
    "\n",
    "    X_scaled = scaler_X.transform(cur_x)\n",
    "    X_new_poly = poly.transform(X_scaled)\n",
    "\n",
    "    # 예측 수행\n",
    "    cur_pred_y = model.predict(X_new_poly) / 35\n",
    "\n",
    "    # 예측 결과를 데이터프레임으로 변환하고, 터빈 ID 추가\n",
    "    cur_pred_df = pd.DataFrame({\n",
    "        'predicted_energy_kwh': cur_pred_y,\n",
    "        'turbine_id': turb\n",
    "    })\n",
    "\n",
    "    # 리스트에 추가\n",
    "    ls_pred.append(cur_pred_df)\n",
    "\n",
    "# 최종 데이터프레임으로 결합\n",
    "df_pred_y = pd.concat(ls_pred, axis=0)\n",
    "pred_y = df_pred_y.groupby(df_pred_y.index)['predicted_energy_kwh'].sum().to_frame()\n",
    "pred_y = np.maximum(0, pred_y)"
   ]
  },
  {
   "cell_type": "code",
   "execution_count": null,
   "metadata": {
    "id": "1OcXPCii8aTi"
   },
   "outputs": [],
   "source": [
    "# pred_y 인덱스 조정\n",
    "df_x = df_x[df_x['turbine_id']=='WTG01']\n",
    "df_x = df_x.reset_index()\n",
    "pred_y['dt'] = df_x['dt']\n",
    "pred_y = pred_y.set_index('dt')\n",
    "\n",
    "# 실제발전량, 예측발전량 데이터프레임\n",
    "result = true_y.merge(\n",
    "    pred_y.reset_index(),\n",
    "    left_on=\"end_datetime\",\n",
    "    right_on=\"dt\"\n",
    ")[[\"dt\", \"energy_kwh\", \"predicted_energy_kwh\"]]"
   ]
  },
  {
   "cell_type": "markdown",
   "metadata": {},
   "source": [
    "### (5) 2020~2022년 feature + target 데이터 저장 → train_yg로 사용될 예정"
   ]
  },
  {
   "cell_type": "code",
   "execution_count": 52,
   "metadata": {},
   "outputs": [],
   "source": [
    "# 23년도 피처 & 예측발전량 합친 데이터프레임\n",
    "df_feature_numeric = df_feature.select_dtypes(include='number')\n",
    "df = df_feature_numeric.groupby(df_feature.index).mean()\n",
    "true_y_dict = true_y.set_index('end_datetime')['energy_kwh'].to_dict()\n",
    "df['energy_kwh'] = df.index.map(true_y_dict)"
   ]
  },
  {
   "cell_type": "code",
   "execution_count": null,
   "metadata": {},
   "outputs": [],
   "source": [
    "df.to_csv(os.path.join(path,\"영광종합.csv\"), encoding='cp949')"
   ]
  },
  {
   "cell_type": "markdown",
   "metadata": {
    "id": "D_ivNUPS8tOi"
   },
   "source": [
    "## 1-2 23년도 예측"
   ]
  },
  {
   "cell_type": "markdown",
   "metadata": {
    "id": "tVYfkJ30IU6E"
   },
   "source": [
    "### (1) feature 데이터 불러오기 및 변수 선택"
   ]
  },
  {
   "cell_type": "code",
   "execution_count": null,
   "metadata": {
    "id": "v-mWeMOT5gQT"
   },
   "outputs": [],
   "source": [
    "df_feature = pd.read_pickle(os.path.join(path, \"1-3. test_ldaps_yeonggwang.pkl\"))\n",
    "\n",
    "df_feature[\"wind_speed\"], df_feature[\"wind_direction\"] = uv_to_wsd(\n",
    "    df_feature[\"wind_u_10m\"], df_feature[\"wind_v_10m\"])\n",
    "df_feature[\"storm_speed\"], df_feature[\"storm_direction\"] = uv_to_wsd(\n",
    "    df_feature[\"storm_u_5m\"], df_feature[\"storm_v_5m\"])\n",
    "\n",
    "df_x = df_feature.loc[:,['specific_humid', 'temp_air', 'wind_speed', 'wind_u_10m', 'storm_u_5m', 'turbine_id']]\n",
    "\n",
    "df_x['month'] = df_x.index.month.astype('category')\n",
    "df_x['hour'] = df_x.index.hour.astype('category')"
   ]
  },
  {
   "cell_type": "markdown",
   "metadata": {
    "id": "6WJMpDX4IU6E"
   },
   "source": [
    "### (2) 예측"
   ]
  },
  {
   "cell_type": "code",
   "execution_count": null,
   "metadata": {
    "id": "ayhpvt0y6Xot"
   },
   "outputs": [],
   "source": [
    "ls_pred = []\n",
    "\n",
    "# 터빈별로 데이터를 나누어 예측\n",
    "for turb in df_x['turbine_id'].unique():\n",
    "    # 해당 터빈의 데이터 선택\n",
    "    cur_x = df_x[df_x['turbine_id'] == turb][['temp_air', 'specific_humid', 'wind_speed', 'wind_u_10m', 'storm_u_5m']].copy().values\n",
    "\n",
    "    X_scaled = scaler_X.transform(cur_x)\n",
    "    X_new_poly = poly.transform(X_scaled)\n",
    "\n",
    "    # 예측 수행\n",
    "    cur_pred_y = model.predict(X_new_poly) / 35\n",
    "\n",
    "    # 예측 결과를 데이터프레임으로 변환하고, 터빈 ID 추가\n",
    "    cur_pred_df = pd.DataFrame({\n",
    "        'predicted_energy_kwh': cur_pred_y,\n",
    "        'turbine_id': turb\n",
    "    })\n",
    "\n",
    "    # 리스트에 추가\n",
    "    ls_pred.append(cur_pred_df)\n",
    "\n",
    "# 최종 데이터프레임으로 결합\n",
    "df_pred_y = pd.concat(ls_pred, axis=0)\n",
    "pred_y = df_pred_y.groupby(df_pred_y.index)['predicted_energy_kwh'].sum().to_frame()\n",
    "pred_y = np.maximum(0, pred_y)"
   ]
  },
  {
   "cell_type": "markdown",
   "metadata": {
    "id": "0bVN-BzVIU6F"
   },
   "source": [
    "### (3) 2023년 실제 기상 데이터 기반 2023년 예측 발전량(target) 데이터 저장 → test_yg로 사용될 예정"
   ]
  },
  {
   "cell_type": "code",
   "execution_count": null,
   "metadata": {
    "id": "RLvqC5R16aUT"
   },
   "outputs": [],
   "source": [
    "# pred_y 인덱스 조정\n",
    "df_x = df_x[df_x['turbine_id']=='WTG01']\n",
    "df_x = df_x.reset_index()  # 기존 인덱스를 칼럼으로 이동 ('dt'라는 이름으로 들어감)\n",
    "pred_y['dt'] = df_x['dt']\n",
    "pred_y = pred_y.set_index('dt')"
   ]
  },
  {
   "cell_type": "code",
   "execution_count": null,
   "metadata": {
    "id": "-tdITdkh6hhz"
   },
   "outputs": [],
   "source": [
    "pred_y.to_csv(os.path.join(path, \"영광23.csv\"), encoding='cp949', index=False)"
   ]
  },
  {
   "cell_type": "markdown",
   "metadata": {
    "id": "Q0_dtQhlG_6A"
   },
   "source": [
    "# 2. 경주"
   ]
  },
  {
   "cell_type": "markdown",
   "metadata": {
    "id": "G6f8qbOQIU6K"
   },
   "source": [
    "## 2-1 20-22년도 발전량 학습"
   ]
  },
  {
   "cell_type": "markdown",
   "metadata": {
    "id": "YHn8Ufi3IU6L"
   },
   "source": [
    "### (1) feature 데이터 불러오기 및 변수 선택"
   ]
  },
  {
   "cell_type": "code",
   "execution_count": 40,
   "metadata": {
    "id": "uE7A1IIJHFa1"
   },
   "outputs": [],
   "source": [
    "# 20-22년도 데이터\n",
    "df_feature = pd.read_pickle(os.path.join(path, \"1-4. train_ldaps_gyeongju.pkl\"))\n",
    "\n",
    "# wind_speed 변수 추출\n",
    "df_feature[\"wind_speed\"], df_feature[\"wind_direction\"] = uv_to_wsd(\n",
    "    df_feature[\"wind_u_10m\"], df_feature[\"wind_v_10m\"])\n",
    "df_feature[\"storm_speed\"], df_feature[\"storm_direction\"] = uv_to_wsd(\n",
    "    df_feature[\"storm_u_5m\"], df_feature[\"storm_v_5m\"])\n",
    "\n",
    "# 변수 선택\n",
    "df_x = df_feature.loc[:,['specific_humid', 'temp_air', 'wind_speed', 'wind_u_10m', 'storm_u_5m', 'turbine_id']]\n",
    "\n",
    "# 월, 시간 변수 추출\n",
    "df_x['month'] = df_x.index.month.astype('category')\n",
    "df_x['hour'] = df_x.index.hour.astype('category')"
   ]
  },
  {
   "cell_type": "markdown",
   "metadata": {
    "id": "FU29j_1mIU6L"
   },
   "source": [
    "### (2) target 데이터 불러오기"
   ]
  },
  {
   "cell_type": "code",
   "execution_count": 42,
   "metadata": {
    "id": "wGplP8KOHFa3"
   },
   "outputs": [],
   "source": [
    "# 20-22년도 발전량\n",
    "train_y = pd.read_csv(os.path.join(path, \"1-1. train_y.csv\"))\n",
    "train_y.end_datetime = pd.to_datetime(\n",
    "    train_y.end_datetime\n",
    ").dt.tz_convert(\"Asia/Seoul\")\n",
    "\n",
    "gj_y = train_y[train_y.plant_name == \"경주풍력\"]\n",
    "true_y = gj_y.copy()[[\"end_datetime\", \"energy_kwh\"]]"
   ]
  },
  {
   "cell_type": "code",
   "execution_count": null,
   "metadata": {
    "id": "5CrdyT6WHFa4"
   },
   "outputs": [],
   "source": [
    "# 수치형 변수 시간별 평균\n",
    "wind_mean = df_x.groupby(df_x.index)['wind_speed'].mean().to_frame(name='wind_mean')\n",
    "temp_mean = df_x.groupby(df_x.index)['temp_air'].mean().to_frame(name='temp_mean')\n",
    "humi_mean = df_x.groupby(df_x.index)['specific_humid'].mean().to_frame(name='humi_mean')\n",
    "uwin_mean = df_x.groupby(df_x.index)['wind_u_10m'].mean().to_frame(name='uwin_mean')\n",
    "usto_mean = df_x.groupby(df_x.index)['storm_u_5m'].mean().to_frame(name='usto_mean')"
   ]
  },
  {
   "cell_type": "code",
   "execution_count": null,
   "metadata": {
    "id": "EcOcguZ0HFa4"
   },
   "outputs": [],
   "source": [
    "# 시간별 평균값으로 구성된 데이터프레임\n",
    "ew = gj_y.merge(\n",
    "    temp_mean.reset_index(),\n",
    "    left_on=\"end_datetime\",\n",
    "    right_on=\"dt\"\n",
    ").merge(\n",
    "    humi_mean.reset_index(),\n",
    "    on=\"dt\"\n",
    ").merge(\n",
    "    wind_mean.reset_index(),\n",
    "    on=\"dt\"\n",
    ").merge(\n",
    "    uwin_mean.reset_index(),\n",
    "    on=\"dt\"\n",
    ").merge(\n",
    "    usto_mean.reset_index(),\n",
    "    on=\"dt\"\n",
    ")[[\"dt\", \"energy_kwh\", \"temp_mean\", \"humi_mean\", \"wind_mean\", \"uwin_mean\", \"usto_mean\"]]\n",
    "ew['month'] = ew['dt'].dt.month.astype('category')\n",
    "ew['hour'] = ew['dt'].dt.hour.astype('category')"
   ]
  },
  {
   "cell_type": "markdown",
   "metadata": {
    "id": "FuW7Y15XIU6T"
   },
   "source": [
    "### (3) 스케일링 및 학습"
   ]
  },
  {
   "cell_type": "code",
   "execution_count": null,
   "metadata": {
    "colab": {
     "base_uri": "https://localhost:8080/",
     "height": 80
    },
    "id": "K6RMgG5xHFa5",
    "outputId": "2c006170-dcd0-4469-ca53-37d041c049eb"
   },
   "outputs": [
    {
     "data": {
      "text/html": [
       "<style>#sk-container-id-1 {\n",
       "  /* Definition of color scheme common for light and dark mode */\n",
       "  --sklearn-color-text: black;\n",
       "  --sklearn-color-line: gray;\n",
       "  /* Definition of color scheme for unfitted estimators */\n",
       "  --sklearn-color-unfitted-level-0: #fff5e6;\n",
       "  --sklearn-color-unfitted-level-1: #f6e4d2;\n",
       "  --sklearn-color-unfitted-level-2: #ffe0b3;\n",
       "  --sklearn-color-unfitted-level-3: chocolate;\n",
       "  /* Definition of color scheme for fitted estimators */\n",
       "  --sklearn-color-fitted-level-0: #f0f8ff;\n",
       "  --sklearn-color-fitted-level-1: #d4ebff;\n",
       "  --sklearn-color-fitted-level-2: #b3dbfd;\n",
       "  --sklearn-color-fitted-level-3: cornflowerblue;\n",
       "\n",
       "  /* Specific color for light theme */\n",
       "  --sklearn-color-text-on-default-background: var(--sg-text-color, var(--theme-code-foreground, var(--jp-content-font-color1, black)));\n",
       "  --sklearn-color-background: var(--sg-background-color, var(--theme-background, var(--jp-layout-color0, white)));\n",
       "  --sklearn-color-border-box: var(--sg-text-color, var(--theme-code-foreground, var(--jp-content-font-color1, black)));\n",
       "  --sklearn-color-icon: #696969;\n",
       "\n",
       "  @media (prefers-color-scheme: dark) {\n",
       "    /* Redefinition of color scheme for dark theme */\n",
       "    --sklearn-color-text-on-default-background: var(--sg-text-color, var(--theme-code-foreground, var(--jp-content-font-color1, white)));\n",
       "    --sklearn-color-background: var(--sg-background-color, var(--theme-background, var(--jp-layout-color0, #111)));\n",
       "    --sklearn-color-border-box: var(--sg-text-color, var(--theme-code-foreground, var(--jp-content-font-color1, white)));\n",
       "    --sklearn-color-icon: #878787;\n",
       "  }\n",
       "}\n",
       "\n",
       "#sk-container-id-1 {\n",
       "  color: var(--sklearn-color-text);\n",
       "}\n",
       "\n",
       "#sk-container-id-1 pre {\n",
       "  padding: 0;\n",
       "}\n",
       "\n",
       "#sk-container-id-1 input.sk-hidden--visually {\n",
       "  border: 0;\n",
       "  clip: rect(1px 1px 1px 1px);\n",
       "  clip: rect(1px, 1px, 1px, 1px);\n",
       "  height: 1px;\n",
       "  margin: -1px;\n",
       "  overflow: hidden;\n",
       "  padding: 0;\n",
       "  position: absolute;\n",
       "  width: 1px;\n",
       "}\n",
       "\n",
       "#sk-container-id-1 div.sk-dashed-wrapped {\n",
       "  border: 1px dashed var(--sklearn-color-line);\n",
       "  margin: 0 0.4em 0.5em 0.4em;\n",
       "  box-sizing: border-box;\n",
       "  padding-bottom: 0.4em;\n",
       "  background-color: var(--sklearn-color-background);\n",
       "}\n",
       "\n",
       "#sk-container-id-1 div.sk-container {\n",
       "  /* jupyter's `normalize.less` sets `[hidden] { display: none; }`\n",
       "     but bootstrap.min.css set `[hidden] { display: none !important; }`\n",
       "     so we also need the `!important` here to be able to override the\n",
       "     default hidden behavior on the sphinx rendered scikit-learn.org.\n",
       "     See: https://github.com/scikit-learn/scikit-learn/issues/21755 */\n",
       "  display: inline-block !important;\n",
       "  position: relative;\n",
       "}\n",
       "\n",
       "#sk-container-id-1 div.sk-text-repr-fallback {\n",
       "  display: none;\n",
       "}\n",
       "\n",
       "div.sk-parallel-item,\n",
       "div.sk-serial,\n",
       "div.sk-item {\n",
       "  /* draw centered vertical line to link estimators */\n",
       "  background-image: linear-gradient(var(--sklearn-color-text-on-default-background), var(--sklearn-color-text-on-default-background));\n",
       "  background-size: 2px 100%;\n",
       "  background-repeat: no-repeat;\n",
       "  background-position: center center;\n",
       "}\n",
       "\n",
       "/* Parallel-specific style estimator block */\n",
       "\n",
       "#sk-container-id-1 div.sk-parallel-item::after {\n",
       "  content: \"\";\n",
       "  width: 100%;\n",
       "  border-bottom: 2px solid var(--sklearn-color-text-on-default-background);\n",
       "  flex-grow: 1;\n",
       "}\n",
       "\n",
       "#sk-container-id-1 div.sk-parallel {\n",
       "  display: flex;\n",
       "  align-items: stretch;\n",
       "  justify-content: center;\n",
       "  background-color: var(--sklearn-color-background);\n",
       "  position: relative;\n",
       "}\n",
       "\n",
       "#sk-container-id-1 div.sk-parallel-item {\n",
       "  display: flex;\n",
       "  flex-direction: column;\n",
       "}\n",
       "\n",
       "#sk-container-id-1 div.sk-parallel-item:first-child::after {\n",
       "  align-self: flex-end;\n",
       "  width: 50%;\n",
       "}\n",
       "\n",
       "#sk-container-id-1 div.sk-parallel-item:last-child::after {\n",
       "  align-self: flex-start;\n",
       "  width: 50%;\n",
       "}\n",
       "\n",
       "#sk-container-id-1 div.sk-parallel-item:only-child::after {\n",
       "  width: 0;\n",
       "}\n",
       "\n",
       "/* Serial-specific style estimator block */\n",
       "\n",
       "#sk-container-id-1 div.sk-serial {\n",
       "  display: flex;\n",
       "  flex-direction: column;\n",
       "  align-items: center;\n",
       "  background-color: var(--sklearn-color-background);\n",
       "  padding-right: 1em;\n",
       "  padding-left: 1em;\n",
       "}\n",
       "\n",
       "\n",
       "/* Toggleable style: style used for estimator/Pipeline/ColumnTransformer box that is\n",
       "clickable and can be expanded/collapsed.\n",
       "- Pipeline and ColumnTransformer use this feature and define the default style\n",
       "- Estimators will overwrite some part of the style using the `sk-estimator` class\n",
       "*/\n",
       "\n",
       "/* Pipeline and ColumnTransformer style (default) */\n",
       "\n",
       "#sk-container-id-1 div.sk-toggleable {\n",
       "  /* Default theme specific background. It is overwritten whether we have a\n",
       "  specific estimator or a Pipeline/ColumnTransformer */\n",
       "  background-color: var(--sklearn-color-background);\n",
       "}\n",
       "\n",
       "/* Toggleable label */\n",
       "#sk-container-id-1 label.sk-toggleable__label {\n",
       "  cursor: pointer;\n",
       "  display: block;\n",
       "  width: 100%;\n",
       "  margin-bottom: 0;\n",
       "  padding: 0.5em;\n",
       "  box-sizing: border-box;\n",
       "  text-align: center;\n",
       "}\n",
       "\n",
       "#sk-container-id-1 label.sk-toggleable__label-arrow:before {\n",
       "  /* Arrow on the left of the label */\n",
       "  content: \"▸\";\n",
       "  float: left;\n",
       "  margin-right: 0.25em;\n",
       "  color: var(--sklearn-color-icon);\n",
       "}\n",
       "\n",
       "#sk-container-id-1 label.sk-toggleable__label-arrow:hover:before {\n",
       "  color: var(--sklearn-color-text);\n",
       "}\n",
       "\n",
       "/* Toggleable content - dropdown */\n",
       "\n",
       "#sk-container-id-1 div.sk-toggleable__content {\n",
       "  max-height: 0;\n",
       "  max-width: 0;\n",
       "  overflow: hidden;\n",
       "  text-align: left;\n",
       "  /* unfitted */\n",
       "  background-color: var(--sklearn-color-unfitted-level-0);\n",
       "}\n",
       "\n",
       "#sk-container-id-1 div.sk-toggleable__content.fitted {\n",
       "  /* fitted */\n",
       "  background-color: var(--sklearn-color-fitted-level-0);\n",
       "}\n",
       "\n",
       "#sk-container-id-1 div.sk-toggleable__content pre {\n",
       "  margin: 0.2em;\n",
       "  border-radius: 0.25em;\n",
       "  color: var(--sklearn-color-text);\n",
       "  /* unfitted */\n",
       "  background-color: var(--sklearn-color-unfitted-level-0);\n",
       "}\n",
       "\n",
       "#sk-container-id-1 div.sk-toggleable__content.fitted pre {\n",
       "  /* unfitted */\n",
       "  background-color: var(--sklearn-color-fitted-level-0);\n",
       "}\n",
       "\n",
       "#sk-container-id-1 input.sk-toggleable__control:checked~div.sk-toggleable__content {\n",
       "  /* Expand drop-down */\n",
       "  max-height: 200px;\n",
       "  max-width: 100%;\n",
       "  overflow: auto;\n",
       "}\n",
       "\n",
       "#sk-container-id-1 input.sk-toggleable__control:checked~label.sk-toggleable__label-arrow:before {\n",
       "  content: \"▾\";\n",
       "}\n",
       "\n",
       "/* Pipeline/ColumnTransformer-specific style */\n",
       "\n",
       "#sk-container-id-1 div.sk-label input.sk-toggleable__control:checked~label.sk-toggleable__label {\n",
       "  color: var(--sklearn-color-text);\n",
       "  background-color: var(--sklearn-color-unfitted-level-2);\n",
       "}\n",
       "\n",
       "#sk-container-id-1 div.sk-label.fitted input.sk-toggleable__control:checked~label.sk-toggleable__label {\n",
       "  background-color: var(--sklearn-color-fitted-level-2);\n",
       "}\n",
       "\n",
       "/* Estimator-specific style */\n",
       "\n",
       "/* Colorize estimator box */\n",
       "#sk-container-id-1 div.sk-estimator input.sk-toggleable__control:checked~label.sk-toggleable__label {\n",
       "  /* unfitted */\n",
       "  background-color: var(--sklearn-color-unfitted-level-2);\n",
       "}\n",
       "\n",
       "#sk-container-id-1 div.sk-estimator.fitted input.sk-toggleable__control:checked~label.sk-toggleable__label {\n",
       "  /* fitted */\n",
       "  background-color: var(--sklearn-color-fitted-level-2);\n",
       "}\n",
       "\n",
       "#sk-container-id-1 div.sk-label label.sk-toggleable__label,\n",
       "#sk-container-id-1 div.sk-label label {\n",
       "  /* The background is the default theme color */\n",
       "  color: var(--sklearn-color-text-on-default-background);\n",
       "}\n",
       "\n",
       "/* On hover, darken the color of the background */\n",
       "#sk-container-id-1 div.sk-label:hover label.sk-toggleable__label {\n",
       "  color: var(--sklearn-color-text);\n",
       "  background-color: var(--sklearn-color-unfitted-level-2);\n",
       "}\n",
       "\n",
       "/* Label box, darken color on hover, fitted */\n",
       "#sk-container-id-1 div.sk-label.fitted:hover label.sk-toggleable__label.fitted {\n",
       "  color: var(--sklearn-color-text);\n",
       "  background-color: var(--sklearn-color-fitted-level-2);\n",
       "}\n",
       "\n",
       "/* Estimator label */\n",
       "\n",
       "#sk-container-id-1 div.sk-label label {\n",
       "  font-family: monospace;\n",
       "  font-weight: bold;\n",
       "  display: inline-block;\n",
       "  line-height: 1.2em;\n",
       "}\n",
       "\n",
       "#sk-container-id-1 div.sk-label-container {\n",
       "  text-align: center;\n",
       "}\n",
       "\n",
       "/* Estimator-specific */\n",
       "#sk-container-id-1 div.sk-estimator {\n",
       "  font-family: monospace;\n",
       "  border: 1px dotted var(--sklearn-color-border-box);\n",
       "  border-radius: 0.25em;\n",
       "  box-sizing: border-box;\n",
       "  margin-bottom: 0.5em;\n",
       "  /* unfitted */\n",
       "  background-color: var(--sklearn-color-unfitted-level-0);\n",
       "}\n",
       "\n",
       "#sk-container-id-1 div.sk-estimator.fitted {\n",
       "  /* fitted */\n",
       "  background-color: var(--sklearn-color-fitted-level-0);\n",
       "}\n",
       "\n",
       "/* on hover */\n",
       "#sk-container-id-1 div.sk-estimator:hover {\n",
       "  /* unfitted */\n",
       "  background-color: var(--sklearn-color-unfitted-level-2);\n",
       "}\n",
       "\n",
       "#sk-container-id-1 div.sk-estimator.fitted:hover {\n",
       "  /* fitted */\n",
       "  background-color: var(--sklearn-color-fitted-level-2);\n",
       "}\n",
       "\n",
       "/* Specification for estimator info (e.g. \"i\" and \"?\") */\n",
       "\n",
       "/* Common style for \"i\" and \"?\" */\n",
       "\n",
       ".sk-estimator-doc-link,\n",
       "a:link.sk-estimator-doc-link,\n",
       "a:visited.sk-estimator-doc-link {\n",
       "  float: right;\n",
       "  font-size: smaller;\n",
       "  line-height: 1em;\n",
       "  font-family: monospace;\n",
       "  background-color: var(--sklearn-color-background);\n",
       "  border-radius: 1em;\n",
       "  height: 1em;\n",
       "  width: 1em;\n",
       "  text-decoration: none !important;\n",
       "  margin-left: 1ex;\n",
       "  /* unfitted */\n",
       "  border: var(--sklearn-color-unfitted-level-1) 1pt solid;\n",
       "  color: var(--sklearn-color-unfitted-level-1);\n",
       "}\n",
       "\n",
       ".sk-estimator-doc-link.fitted,\n",
       "a:link.sk-estimator-doc-link.fitted,\n",
       "a:visited.sk-estimator-doc-link.fitted {\n",
       "  /* fitted */\n",
       "  border: var(--sklearn-color-fitted-level-1) 1pt solid;\n",
       "  color: var(--sklearn-color-fitted-level-1);\n",
       "}\n",
       "\n",
       "/* On hover */\n",
       "div.sk-estimator:hover .sk-estimator-doc-link:hover,\n",
       ".sk-estimator-doc-link:hover,\n",
       "div.sk-label-container:hover .sk-estimator-doc-link:hover,\n",
       ".sk-estimator-doc-link:hover {\n",
       "  /* unfitted */\n",
       "  background-color: var(--sklearn-color-unfitted-level-3);\n",
       "  color: var(--sklearn-color-background);\n",
       "  text-decoration: none;\n",
       "}\n",
       "\n",
       "div.sk-estimator.fitted:hover .sk-estimator-doc-link.fitted:hover,\n",
       ".sk-estimator-doc-link.fitted:hover,\n",
       "div.sk-label-container:hover .sk-estimator-doc-link.fitted:hover,\n",
       ".sk-estimator-doc-link.fitted:hover {\n",
       "  /* fitted */\n",
       "  background-color: var(--sklearn-color-fitted-level-3);\n",
       "  color: var(--sklearn-color-background);\n",
       "  text-decoration: none;\n",
       "}\n",
       "\n",
       "/* Span, style for the box shown on hovering the info icon */\n",
       ".sk-estimator-doc-link span {\n",
       "  display: none;\n",
       "  z-index: 9999;\n",
       "  position: relative;\n",
       "  font-weight: normal;\n",
       "  right: .2ex;\n",
       "  padding: .5ex;\n",
       "  margin: .5ex;\n",
       "  width: min-content;\n",
       "  min-width: 20ex;\n",
       "  max-width: 50ex;\n",
       "  color: var(--sklearn-color-text);\n",
       "  box-shadow: 2pt 2pt 4pt #999;\n",
       "  /* unfitted */\n",
       "  background: var(--sklearn-color-unfitted-level-0);\n",
       "  border: .5pt solid var(--sklearn-color-unfitted-level-3);\n",
       "}\n",
       "\n",
       ".sk-estimator-doc-link.fitted span {\n",
       "  /* fitted */\n",
       "  background: var(--sklearn-color-fitted-level-0);\n",
       "  border: var(--sklearn-color-fitted-level-3);\n",
       "}\n",
       "\n",
       ".sk-estimator-doc-link:hover span {\n",
       "  display: block;\n",
       "}\n",
       "\n",
       "/* \"?\"-specific style due to the `<a>` HTML tag */\n",
       "\n",
       "#sk-container-id-1 a.estimator_doc_link {\n",
       "  float: right;\n",
       "  font-size: 1rem;\n",
       "  line-height: 1em;\n",
       "  font-family: monospace;\n",
       "  background-color: var(--sklearn-color-background);\n",
       "  border-radius: 1rem;\n",
       "  height: 1rem;\n",
       "  width: 1rem;\n",
       "  text-decoration: none;\n",
       "  /* unfitted */\n",
       "  color: var(--sklearn-color-unfitted-level-1);\n",
       "  border: var(--sklearn-color-unfitted-level-1) 1pt solid;\n",
       "}\n",
       "\n",
       "#sk-container-id-1 a.estimator_doc_link.fitted {\n",
       "  /* fitted */\n",
       "  border: var(--sklearn-color-fitted-level-1) 1pt solid;\n",
       "  color: var(--sklearn-color-fitted-level-1);\n",
       "}\n",
       "\n",
       "/* On hover */\n",
       "#sk-container-id-1 a.estimator_doc_link:hover {\n",
       "  /* unfitted */\n",
       "  background-color: var(--sklearn-color-unfitted-level-3);\n",
       "  color: var(--sklearn-color-background);\n",
       "  text-decoration: none;\n",
       "}\n",
       "\n",
       "#sk-container-id-1 a.estimator_doc_link.fitted:hover {\n",
       "  /* fitted */\n",
       "  background-color: var(--sklearn-color-fitted-level-3);\n",
       "}\n",
       "</style><div id=\"sk-container-id-1\" class=\"sk-top-container\"><div class=\"sk-text-repr-fallback\"><pre>QuantileRegressor(alpha=0)</pre><b>In a Jupyter environment, please rerun this cell to show the HTML representation or trust the notebook. <br />On GitHub, the HTML representation is unable to render, please try loading this page with nbviewer.org.</b></div><div class=\"sk-container\" hidden><div class=\"sk-item\"><div class=\"sk-estimator fitted sk-toggleable\"><input class=\"sk-toggleable__control sk-hidden--visually\" id=\"sk-estimator-id-1\" type=\"checkbox\" checked><label for=\"sk-estimator-id-1\" class=\"sk-toggleable__label fitted sk-toggleable__label-arrow fitted\">&nbsp;&nbsp;QuantileRegressor<a class=\"sk-estimator-doc-link fitted\" rel=\"noreferrer\" target=\"_blank\" href=\"https://scikit-learn.org/1.5/modules/generated/sklearn.linear_model.QuantileRegressor.html\">?<span>Documentation for QuantileRegressor</span></a><span class=\"sk-estimator-doc-link fitted\">i<span>Fitted</span></span></label><div class=\"sk-toggleable__content fitted\"><pre>QuantileRegressor(alpha=0)</pre></div> </div></div></div></div>"
      ],
      "text/plain": [
       "QuantileRegressor(alpha=0)"
      ]
     },
     "execution_count": 9,
     "metadata": {},
     "output_type": "execute_result"
    }
   ],
   "source": [
    "# 데이터 준비\n",
    "X = ew[[\"temp_mean\", \"humi_mean\", \"wind_mean\", \"uwin_mean\", \"usto_mean\", \"month\", \"hour\"]].values\n",
    "y = ew['energy_kwh'].values\n",
    "\n",
    "scaler_X = StandardScaler()\n",
    "X_scaled = scaler_X.fit_transform(X)  # 독립변수 표준화\n",
    "\n",
    "# 4차 다항 변환\n",
    "poly = PolynomialFeatures(degree=4)\n",
    "X_poly = poly.fit_transform(X_scaled)\n",
    "\n",
    "# 발전량 학습\n",
    "model = QuantileRegressor(quantile=0.5, alpha=0, solver='highs')\n",
    "model.fit(X_poly, y)"
   ]
  },
  {
   "cell_type": "markdown",
   "metadata": {
    "id": "aAGvvLFGIU6U"
   },
   "source": [
    "### (4) 예측"
   ]
  },
  {
   "cell_type": "code",
   "execution_count": null,
   "metadata": {
    "id": "goHr9bzPHFa6"
   },
   "outputs": [],
   "source": [
    "ls_pred = []\n",
    "\n",
    "# 터빈별로 데이터를 나누어 20-22년도 발전량 예측\n",
    "for turb in df_x['turbine_id'].unique():\n",
    "    # 해당 터빈의 데이터 선택\n",
    "    cur_x = df_x[df_x['turbine_id'] == turb][['temp_air', 'specific_humid', 'wind_speed', 'wind_u_10m', 'storm_u_5m', 'month', 'hour']].copy().values\n",
    "\n",
    "    X_scaled = scaler_X.transform(cur_x)\n",
    "    X_new_poly = poly.transform(X_scaled)\n",
    "\n",
    "    # 예측 수행\n",
    "    cur_pred_y = model.predict(X_new_poly) / 9\n",
    "\n",
    "    # 예측 결과를 데이터프레임으로 변환하고, 터빈 ID 추가\n",
    "    cur_pred_df = pd.DataFrame({\n",
    "        'predicted_energy_kwh': cur_pred_y,\n",
    "        'turbine_id': turb\n",
    "    })\n",
    "\n",
    "    # 리스트에 추가\n",
    "    ls_pred.append(cur_pred_df)\n",
    "\n",
    "# 최종 데이터프레임으로 결합\n",
    "df_pred_y = pd.concat(ls_pred, axis=0)\n",
    "pred_y = df_pred_y.groupby(df_pred_y.index)['predicted_energy_kwh'].sum().to_frame()\n",
    "pred_y = np.maximum(0, pred_y)"
   ]
  },
  {
   "cell_type": "code",
   "execution_count": null,
   "metadata": {
    "id": "dTjw1JaeHFa7"
   },
   "outputs": [],
   "source": [
    "# pred_y 인덱스 조정\n",
    "df_x = df_x[df_x['turbine_id']=='WTG01']\n",
    "df_x = df_x.reset_index()\n",
    "pred_y['dt'] = df_x['dt']\n",
    "pred_y = pred_y.set_index('dt')\n",
    "\n",
    "# 실제발전량, 예측발전량 데이터프레임\n",
    "result = true_y.merge(\n",
    "    pred_y.reset_index(),\n",
    "    left_on=\"end_datetime\",\n",
    "    right_on=\"dt\"\n",
    ")[[\"dt\", \"energy_kwh\", \"predicted_energy_kwh\"]]"
   ]
  },
  {
   "cell_type": "markdown",
   "metadata": {},
   "source": [
    "### (5) 2020~2022년 feature + target 데이터 저장 → train_gj로 사용될 예정"
   ]
  },
  {
   "cell_type": "code",
   "execution_count": 44,
   "metadata": {},
   "outputs": [],
   "source": [
    "# 23년도 피처 & 예측발전량 합친 데이터프레임\n",
    "df_feature_numeric = df_feature.select_dtypes(include='number')\n",
    "df = df_feature_numeric.groupby(df_feature.index).mean()\n",
    "true_y_dict = true_y.set_index('end_datetime')['energy_kwh'].to_dict()\n",
    "df['energy_kwh'] = df.index.map(true_y_dict)"
   ]
  },
  {
   "cell_type": "code",
   "execution_count": 33,
   "metadata": {},
   "outputs": [],
   "source": [
    "df.to_csv(os.path.join(path, \"경주종합.csv\"), encoding='cp949')"
   ]
  },
  {
   "cell_type": "markdown",
   "metadata": {
    "id": "EE5b1KwrHFa9"
   },
   "source": [
    "## 2-2 23년도 예측"
   ]
  },
  {
   "cell_type": "markdown",
   "metadata": {
    "id": "zKmz3UsCIU6V"
   },
   "source": [
    "### (1) feature 데이터 불러오기 및 변수 선택"
   ]
  },
  {
   "cell_type": "code",
   "execution_count": null,
   "metadata": {
    "id": "6e3NSryuHFa-"
   },
   "outputs": [],
   "source": [
    "df_feature = pd.read_pickle(os.path.join(path, \"1-4. test_ldaps_gyeongju.pkl\"))\n",
    "\n",
    "df_feature[\"wind_speed\"], df_feature[\"wind_direction\"] = uv_to_wsd(\n",
    "    df_feature[\"wind_u_10m\"], df_feature[\"wind_v_10m\"])\n",
    "df_feature[\"storm_speed\"], df_feature[\"storm_direction\"] = uv_to_wsd(\n",
    "    df_feature[\"storm_u_5m\"], df_feature[\"storm_v_5m\"])\n",
    "\n",
    "df_x = df_feature.loc[:,['specific_humid', 'temp_air', 'wind_speed', 'wind_u_10m', 'storm_u_5m', 'turbine_id']]\n",
    "\n",
    "df_x['month'] = df_x.index.month.astype('category')\n",
    "df_x['hour'] = df_x.index.hour.astype('category')"
   ]
  },
  {
   "cell_type": "markdown",
   "metadata": {
    "id": "8O6UrCudIU6W"
   },
   "source": [
    "### (2) 예측"
   ]
  },
  {
   "cell_type": "code",
   "execution_count": null,
   "metadata": {
    "id": "Mn0ZSU8XHFbB",
    "jp-MarkdownHeadingCollapsed": true
   },
   "outputs": [],
   "source": [
    "ls_pred = []\n",
    "\n",
    "# 터빈별로 데이터를 나누어 예측\n",
    "for turb in df_x['turbine_id'].unique():\n",
    "    # 해당 터빈의 데이터 선택\n",
    "    cur_x = df_x[df_x['turbine_id'] == turb][['temp_air', 'specific_humid', 'wind_speed', 'wind_u_10m', 'storm_u_5m', 'month', 'hour']].copy().values\n",
    "\n",
    "    X_scaled = scaler_X.transform(cur_x)\n",
    "    X_new_poly = poly.transform(X_scaled)\n",
    "\n",
    "    # 예측 수행\n",
    "    cur_pred_y = model.predict(X_new_poly) / 9\n",
    "\n",
    "    # 예측 결과를 데이터프레임으로 변환하고, 터빈 ID 추가\n",
    "    cur_pred_df = pd.DataFrame({\n",
    "        'predicted_energy_kwh': cur_pred_y,\n",
    "        'turbine_id': turb\n",
    "    })\n",
    "\n",
    "    # 리스트에 추가\n",
    "    ls_pred.append(cur_pred_df)\n",
    "\n",
    "# 최종 데이터프레임으로 결합\n",
    "df_pred_y = pd.concat(ls_pred, axis=0)\n",
    "pred_y = df_pred_y.groupby(df_pred_y.index)['predicted_energy_kwh'].sum().to_frame()\n",
    "pred_y = np.maximum(0, pred_y)"
   ]
  },
  {
   "cell_type": "code",
   "execution_count": null,
   "metadata": {
    "id": "rnGo40JGHFbC"
   },
   "outputs": [],
   "source": [
    "# pred_y 인덱스 조정\n",
    "df_x = df_x[df_x['turbine_id']=='WTG01']\n",
    "df_x = df_x.reset_index()  # 기존 인덱스를 칼럼으로 이동 ('dt'라는 이름으로 들어감)\n",
    "pred_y['dt'] = df_x['dt']\n",
    "pred_y = pred_y.set_index('dt')"
   ]
  },
  {
   "cell_type": "markdown",
   "metadata": {
    "id": "ZLO3F3UmIU6X"
   },
   "source": [
    "### (3) 2023년 실제 기상 데이터 기반 2023년 예측 발전량(target) 데이터 저장 → test_gj로 사용될 예정"
   ]
  },
  {
   "cell_type": "code",
   "execution_count": null,
   "metadata": {
    "id": "HTe0ZmIwHFbC"
   },
   "outputs": [],
   "source": [
    "pred_y.to_csv(os.path.join(path, \"경주23.csv\"), encoding='cp949')"
   ]
  },
  {
   "cell_type": "markdown",
   "metadata": {
    "id": "764f42f4-ad72-497d-8a69-ac9c667d0b5c"
   },
   "source": [
    "# 3. 2023년 발전량 예측 (실제 2023년 데이터 기반이 아닌 순수 예측)"
   ]
  },
  {
   "cell_type": "code",
   "execution_count": 66,
   "metadata": {
    "id": "1wPvPEPaSNze"
   },
   "outputs": [],
   "source": [
    "from datetime import datetime, timedelta\n",
    "from sklearn.preprocessing import MinMaxScaler\n",
    "from sklearn.model_selection import train_test_split\n",
    "import xgboost as xgb\n",
    "from sklearn.ensemble import RandomForestRegressor\n",
    "from sklearn.metrics import mean_squared_error, r2_score"
   ]
  },
  {
   "cell_type": "code",
   "execution_count": 56,
   "metadata": {
    "id": "TpOVQ7JzSlYO"
   },
   "outputs": [],
   "source": [
    "# ldaps\n",
    "## 영광\n",
    "train_yg = pd.read_csv(os.path.join(path, \"영광종합.csv\"), encoding='cp949')\n",
    "train_yg.set_index('dt', inplace=True)\n",
    "train_yg.index = pd.to_datetime(train_yg.index).tz_convert('Asia/Seoul')\n",
    "\n",
    "\n",
    "test_yg_y = pd.read_csv(os.path.join(path, \"영광23.csv\"), encoding='cp949')\n",
    "test_yg_y.set_index('dt', inplace=True)\n",
    "\n",
    "test_yg = pd.read_pickle(os.path.join(path, \"1-3. test_ldaps_yeonggwang.pkl\"))\n",
    "test_yg = test_yg.select_dtypes(include='number').groupby(test_yg.index).mean()\n",
    "test_yg = test_yg.merge(test_yg_y, how='outer', on=test_yg.index)\n",
    "test_yg.set_index('key_0', inplace=True)\n",
    "test_yg.index.name = 'dt'\n",
    "test_yg.rename(columns={'predicted_energy_kwh': 'energy_kwh'}, inplace=True)\n",
    "\n",
    "test_yg[\"wind_speed\"], test_yg[\"wind_direction\"] = uv_to_wsd(\n",
    "    test_yg[\"wind_u_10m\"], test_yg[\"wind_v_10m\"]\n",
    ")\n",
    "test_yg[\"storm_speed\"], test_yg[\"storm_direction\"] = uv_to_wsd(\n",
    "    test_yg[\"storm_u_5m\"], test_yg[\"storm_v_5m\"]\n",
    ")\n",
    "\n",
    "\n",
    "## 경주\n",
    "train_gj = pd.read_csv(os.path.join(path, \"경주종합.csv\"), encoding='cp949')\n",
    "train_gj.set_index('dt', inplace=True)\n",
    "train_gj.index = pd.to_datetime(train_gj.index).tz_convert('Asia/Seoul')\n",
    "\n",
    "test_gj_y = pd.read_csv(os.path.join(path, \"경주23.csv\"), encoding='cp949')\n",
    "test_gj_y.set_index('dt', inplace=True)\n",
    "\n",
    "test_gj = pd.read_pickle(os.path.join(path, \"1-4. test_ldaps_gyeongju.pkl\"))\n",
    "test_gj = test_gj.select_dtypes(include='number').groupby(test_gj.index).mean()\n",
    "test_gj = test_gj.merge(test_gj_y, how='outer', on=test_gj.index)\n",
    "test_gj.set_index('key_0', inplace=True)\n",
    "test_gj.index.name = 'dt'\n",
    "test_gj.rename(columns={'predicted_energy_kwh': 'energy_kwh'}, inplace=True)\n",
    "\n",
    "test_gj[\"wind_speed\"], test_gj[\"wind_direction\"] = uv_to_wsd(\n",
    "    test_gj[\"wind_u_10m\"], test_gj[\"wind_v_10m\"]\n",
    ")\n",
    "test_gj[\"storm_speed\"], test_gj[\"storm_direction\"] = uv_to_wsd(\n",
    "    test_gj[\"storm_u_5m\"], test_gj[\"storm_v_5m\"]\n",
    ")"
   ]
  },
  {
   "cell_type": "markdown",
   "metadata": {
    "id": "0ZpLeAg3IU6a"
   },
   "source": [
    "## 3-1 데이터 전처리\n",
    "- 시퀀스 생성"
   ]
  },
  {
   "cell_type": "markdown",
   "metadata": {
    "id": "V07lvS_EUYM2"
   },
   "source": [
    "## 3-2 영광"
   ]
  },
  {
   "cell_type": "markdown",
   "metadata": {
    "id": "5d35ed50-4e85-41f5-97e9-37cad31d3cd7"
   },
   "source": [
    "### (1) test 데이터에 2022년 데이터 일부 붙이기\n",
    "- lookback_days에 따라 2022년 12월 혹은 11월 데이터까지 사용해야할 수도 있음"
   ]
  },
  {
   "cell_type": "code",
   "execution_count": 70,
   "metadata": {
    "id": "6583a180-cbd6-42cf-bd63-63b2628eaa55"
   },
   "outputs": [],
   "source": [
    "# 영광\n",
    "test_yg_added = pd.concat([train_yg[train_yg.index >= '2022-11-01 00:00:00+09:00'], test_yg])\n",
    "test_yg_added.index = pd.to_datetime(test_yg_added.index)"
   ]
  },
  {
   "cell_type": "markdown",
   "metadata": {
    "id": "9ec7cada-9fae-4a9d-ad29-1e835d7eb2b5"
   },
   "source": [
    "### (2) lookback_days 정의 후 lookback 계산"
   ]
  },
  {
   "cell_type": "code",
   "execution_count": 73,
   "metadata": {
    "id": "24a508da-4727-4d85-90c7-ba25b928c2c7"
   },
   "outputs": [],
   "source": [
    "# lookback_days : 며칠 전까지를 x시퀀스로 만들건지\n",
    "lookback_days = 5\n",
    "\n",
    "# 시간화\n",
    "lookback = 24 * lookback_days"
   ]
  },
  {
   "cell_type": "markdown",
   "metadata": {
    "id": "1NRsIPuiIU6d"
   },
   "source": [
    "### (3) 컬럼 추가"
   ]
  },
  {
   "cell_type": "code",
   "execution_count": 76,
   "metadata": {
    "colab": {
     "base_uri": "https://localhost:8080/"
    },
    "id": "4d0bb860-8a70-456d-b719-9e64d5a87872",
    "outputId": "cef843d4-d3e3-4cc6-dd43-4dc51f16cae7",
    "scrolled": true
   },
   "outputs": [
    {
     "name": "stderr",
     "output_type": "stream",
     "text": [
      "C:\\Users\\jinhe\\AppData\\Local\\Temp\\ipykernel_11952\\3493249188.py:4: SettingWithCopyWarning: \n",
      "A value is trying to be set on a copy of a slice from a DataFrame.\n",
      "Try using .loc[row_indexer,col_indexer] = value instead\n",
      "\n",
      "See the caveats in the documentation: https://pandas.pydata.org/pandas-docs/stable/user_guide/indexing.html#returning-a-view-versus-a-copy\n",
      "  test_yg_final['month'] = test_yg_final.index.month.astype('category')\n",
      "C:\\Users\\jinhe\\AppData\\Local\\Temp\\ipykernel_11952\\3493249188.py:5: SettingWithCopyWarning: \n",
      "A value is trying to be set on a copy of a slice from a DataFrame.\n",
      "Try using .loc[row_indexer,col_indexer] = value instead\n",
      "\n",
      "See the caveats in the documentation: https://pandas.pydata.org/pandas-docs/stable/user_guide/indexing.html#returning-a-view-versus-a-copy\n",
      "  test_yg_final['hour'] = test_yg_final.index.hour.astype('category')\n"
     ]
    }
   ],
   "source": [
    "# 영광\n",
    "yg_offset = test_yg_added[test_yg_added.index == '2022-12-31 00:00:00+09:00'].index[0] - pd.Timedelta(hours=lookback)\n",
    "test_yg_final = test_yg_added[test_yg_added.index >= yg_offset]\n",
    "test_yg_final['month'] = test_yg_final.index.month.astype('category')\n",
    "test_yg_final['hour'] = test_yg_final.index.hour.astype('category')"
   ]
  },
  {
   "cell_type": "markdown",
   "metadata": {
    "id": "Ypzis3VJIU6d"
   },
   "source": [
    "### (4) 시퀀스 생성"
   ]
  },
  {
   "cell_type": "code",
   "execution_count": 79,
   "metadata": {
    "id": "1nNhLfxbIU6e"
   },
   "outputs": [],
   "source": [
    "# 전날 15시까지의 데이터를 사용하여 다음날 23시까지 예측\n",
    "def create_features(feature, target, lookback, forecast_horizon=32):\n",
    "    X, y = [], []\n",
    "\n",
    "    for i in range(lookback, len(feature) - forecast_horizon):\n",
    "      current_time = feature.index[i]  # 현재 인덱스의 시간\n",
    "\n",
    "      if current_time.hour == 15:  # 15시까지의 데이터를 사용하여 예측\n",
    "          x_1 = feature.iloc[(i - lookback) : (i + 1)][['energy_kwh', 'wind_speed', 'wind_u_10m', 'storm_u_5m', 'temp_air', 'specific_humid']].values.flatten().reshape(1, -1)\n",
    "          x_2 = np.array([feature[['month', 'hour']].values[i]])\n",
    "          x_to = np.hstack([x_1, x_2])\n",
    "          X.append(x_to.reshape(-1))  # 과거 (lookback)시간의 피처 데이터\n",
    "\n",
    "          y_1 = feature.iloc[(i + 1) : (i + 1 + forecast_horizon)]['energy_kwh'].values\n",
    "          y.append(y_1.flatten())  # 다음 32시간 동안의 예측 값\n",
    "\n",
    "    return np.array(X), np.array(y)"
   ]
  },
  {
   "cell_type": "markdown",
   "metadata": {
    "id": "lO2nriVFIU6f"
   },
   "source": [
    "### (5) 변수선택, 스케일링, 모델링"
   ]
  },
  {
   "cell_type": "code",
   "execution_count": null,
   "metadata": {
    "id": "48YdlQQgUUDu"
   },
   "outputs": [],
   "source": [
    "yg_list = []\n",
    "\n",
    "# 피처와 타겟 정의\n",
    "train_features = train_yg[['energy_kwh', 'wind_speed', 'wind_u_10m', 'storm_u_5m', 'temp_air', 'specific_humid']]\n",
    "train_target = train_yg[['energy_kwh']]\n",
    "\n",
    "test_features = test_yg_final[['energy_kwh', 'wind_speed', 'wind_u_10m', 'storm_u_5m', 'temp_air', 'specific_humid']]\n",
    "test_target = test_yg_final[['energy_kwh']]\n",
    "\n",
    "# 데이터 스케일링\n",
    "scaler_features = MinMaxScaler()\n",
    "scaler_target = MinMaxScaler()\n",
    "\n",
    "scaled_x_train = pd.DataFrame(scaler_features.fit_transform(train_features), columns = ['energy_kwh', 'wind_speed', 'wind_u_10m', 'storm_u_5m', 'temp_air', 'specific_humid'])  # train_features에 다차원 배열 입력\n",
    "scaled_x_test = pd.DataFrame(scaler_features.transform(test_features) , columns = ['energy_kwh', 'wind_speed', 'wind_u_10m', 'storm_u_5m', 'temp_air', 'specific_humid'])       # test_features도 동일한 방식으로 변환\n",
    "\n",
    "scaled_x_train.set_index(train_yg.index, inplace=True)\n",
    "scaled_x_test.set_index(test_yg_final.index, inplace=True)\n",
    "\n",
    "# 풍속 데이터에 대한 스케일링\n",
    "scaled_y_train = pd.DataFrame(scaler_target.fit_transform(train_target), columns = ['energy_kwh'])  # 풍속 스케일링\n",
    "scaled_y_test = pd.DataFrame(scaler_target.transform(test_target), columns = ['energy_kwh'])       # 테스트 데이터도 변환\n",
    "\n",
    "scaled_y_train.set_index(train_yg.index, inplace=True)\n",
    "scaled_y_test.set_index(test_yg_final.index, inplace=True)\n",
    "\n",
    "# month, day, weekday\n",
    "scaled_x_train['month'] = scaled_x_train.index.month\n",
    "scaled_x_train['hour'] = scaled_x_train.index.hour\n",
    "\n",
    "scaled_x_test['month'] = scaled_x_test.index.month\n",
    "scaled_x_test['hour'] = scaled_x_test.index.hour\n",
    "\n",
    "scaled_y_train['month'] = scaled_y_train.index.month\n",
    "scaled_y_train['hour'] = scaled_y_train.index.hour\n",
    "\n",
    "scaled_y_test['month'] = scaled_y_test.index.month\n",
    "scaled_y_test['hour'] = scaled_y_test.index.hour\n",
    "\n",
    "\n",
    "# 훈련 데이터 및 테스트 데이터 생성\n",
    "X_train, y_train = create_features(feature = scaled_x_train, target = scaled_y_train, lookback = lookback)\n",
    "X_test, y_test = create_features(feature = scaled_x_test, target = scaled_y_test, lookback = lookback)\n",
    "\n",
    "# RandomForestRegressor 모델 훈련\n",
    "rf_model = RandomForestRegressor(n_estimators=500, random_state=0)\n",
    "rf_model.fit(X_train, y_train)\n",
    "\n",
    "# 테스트 데이터에 대한 예측\n",
    "pred_rf = rf_model.predict(X_test)\n",
    "\n",
    "y_test = scaler_target.inverse_transform(y_test)\n",
    "pred_rf = scaler_target.inverse_transform(pred_rf)\n",
    "\n",
    "\n",
    "# 데이터프레임화\n",
    "target_df = pd.DataFrame(pred_rf)\n",
    "\n",
    "# 다음날 24시간 데이터만 뽑기\n",
    "target_filtered = target_df.iloc[:, -24:]\n",
    "target_reshaped = target_filtered.values.flatten()\n",
    "target_transposed_pred = target_reshaped.transpose()\n",
    "\n",
    "# 다시 한번 데이터 프레임화\n",
    "yg_final = pd.DataFrame(target_transposed_pred, columns=['pred_energy'])\n",
    "\n",
    "# 시간 컬럼 붙이기\n",
    "yg_final['dt'] = test_yg_final.index[lookback+24:]"
   ]
  },
  {
   "cell_type": "markdown",
   "metadata": {
    "id": "1sbZxeMYIU6g"
   },
   "source": [
    "### (6) 제출 형식으로 변경"
   ]
  },
  {
   "cell_type": "code",
   "execution_count": null,
   "metadata": {
    "id": "GoTZZ1NsIU6h"
   },
   "outputs": [],
   "source": [
    "# 제출형식으로 변경\n",
    "pred_y.reset_index(inplace=True)\n",
    "pred_y['plant_name'] = '영광풍력'\n",
    "pred_y['period_hours'] = 1\n",
    "\n",
    "pred_yg = pred_y[['plant_name', 'dt', 'period_hours', 'predicted_energy_kwh']]\n",
    "pred_yg.columns = ['plant_name', 'end_datetime', 'period_hours', 'energy_kwh']"
   ]
  },
  {
   "cell_type": "markdown",
   "metadata": {
    "id": "Tyf500RuU6z-"
   },
   "source": [
    "## 3-3 경주"
   ]
  },
  {
   "cell_type": "markdown",
   "metadata": {
    "id": "zimNv9CQIU6i"
   },
   "source": [
    "### (1) test 데이터에 2022년 데이터 일부 붙이기\n",
    "- lookback_days에 따라 2022년 12월 혹은 11월 데이터까지 사용해야할 수도 있음"
   ]
  },
  {
   "cell_type": "code",
   "execution_count": null,
   "metadata": {
    "id": "dYIaTd2TIU6i"
   },
   "outputs": [],
   "source": [
    "# 경주\n",
    "test_gj_added = pd.concat([train_gj[train_gj.index >= '2022-11-01 00:00:00+09:00'], test_gj])\n",
    "test_gj_added.index = pd.to_datetime(test_gj_added.index)"
   ]
  },
  {
   "cell_type": "markdown",
   "metadata": {
    "id": "S9CoK9OhIU6i"
   },
   "source": [
    "### (2) lookback_days 정의 후 lookback 계산"
   ]
  },
  {
   "cell_type": "code",
   "execution_count": null,
   "metadata": {
    "id": "utjHgH5nIU6i"
   },
   "outputs": [],
   "source": [
    "# lookback_days : 며칠 전까지를 x시퀀스로 만들건지\n",
    "lookback_days = 5\n",
    "\n",
    "# 시간화\n",
    "lookback = 24 * lookback_days"
   ]
  },
  {
   "cell_type": "markdown",
   "metadata": {
    "id": "EFqMjNhQIU6i"
   },
   "source": [
    "### (3) 컬럼 추가"
   ]
  },
  {
   "cell_type": "code",
   "execution_count": null,
   "metadata": {
    "id": "iDC2Ig4JIU6i",
    "scrolled": true
   },
   "outputs": [],
   "source": [
    "# 경주\n",
    "gj_offset = test_gj_added[test_gj_added.index == '2022-12-31 00:00:00+09:00'].index[0] - pd.Timedelta(hours=lookback)\n",
    "test_gj_final = test_gj_added[test_gj_added.index >= gj_offset]\n",
    "test_gj_final['month'] = test_gj_final.index.month.astype('category')\n",
    "test_gj_final['hour'] = test_gj_final.index.hour.astype('category')"
   ]
  },
  {
   "cell_type": "markdown",
   "metadata": {
    "id": "XSIYlynTIU6j"
   },
   "source": [
    "### (4) 시퀀스 생성"
   ]
  },
  {
   "cell_type": "code",
   "execution_count": null,
   "metadata": {
    "id": "ftxvcBm4QNkK"
   },
   "outputs": [],
   "source": [
    "# 전날 15시까지의 데이터를 사용하여 다음날 23시까지 예측\n",
    "def create_features(feature, target, lookback, forecast_horizon=32):\n",
    "    X, y = [], []\n",
    "\n",
    "    for i in range(lookback, len(feature) - forecast_horizon):\n",
    "      current_time = feature.index[i]  # 현재 인덱스의 시간\n",
    "\n",
    "      if current_time.hour == 15:  # 15시까지의 데이터를 사용하여 예측\n",
    "          x_1 = feature.iloc[(i - lookback) : (i + 1)][['energy_kwh', 'wind_speed', 'wind_u_10m', 'storm_u_5m', 'temp_air', 'specific_humid']].values.flatten().reshape(1, -1)\n",
    "          x_2 = np.array([feature[['month', 'hour']].values[i]])\n",
    "          x_to = np.hstack([x_1, x_2])\n",
    "          X.append(x_to.reshape(-1))  # 과거 (lookback)시간의 피처 데이터\n",
    "\n",
    "          y_1 = feature.iloc[(i + 1) : (i + 1 + forecast_horizon)]['energy_kwh'].values\n",
    "          y.append(y_1.flatten())  # 다음 32시간 동안의 예측 값\n",
    "\n",
    "    return np.array(X), np.array(y)"
   ]
  },
  {
   "cell_type": "markdown",
   "metadata": {
    "id": "IxIojP9QIU6j"
   },
   "source": [
    "### (5) 변수선택, 스케일링, 모델링"
   ]
  },
  {
   "cell_type": "code",
   "execution_count": null,
   "metadata": {
    "colab": {
     "base_uri": "https://localhost:8080/"
    },
    "id": "H-tDK2lkU6z-",
    "outputId": "32c4def6-8a28-412f-cf05-cc8e3ec6ea2b"
   },
   "outputs": [],
   "source": [
    "gj_list = []\n",
    "\n",
    "# 피처와 타겟 정의\n",
    "train_features = train_gj[['energy_kwh', 'wind_speed', 'wind_u_10m', 'storm_u_5m', 'temp_air', 'specific_humid']]\n",
    "train_target = train_gj[['energy_kwh']]\n",
    "\n",
    "test_features = test_gj_final[['energy_kwh', 'wind_speed', 'wind_u_10m', 'storm_u_5m', 'temp_air', 'specific_humid']]\n",
    "test_target = test_gj_final[['energy_kwh']]\n",
    "\n",
    "# 데이터 스케일링\n",
    "scaler_features = MinMaxScaler()\n",
    "scaler_target = MinMaxScaler()\n",
    "\n",
    "scaled_x_train = pd.DataFrame(scaler_features.fit_transform(train_features), columns = ['energy_kwh', 'wind_speed', 'wind_u_10m', 'storm_u_5m', 'temp_air', 'specific_humid'])  # train_features에 다차원 배열 입력\n",
    "scaled_x_test = pd.DataFrame(scaler_features.transform(test_features) , columns = ['energy_kwh', 'wind_speed', 'wind_u_10m', 'storm_u_5m', 'temp_air', 'specific_humid'])       # test_features도 동일한 방식으로 변환\n",
    "\n",
    "scaled_x_train.set_index(train_gj.index, inplace=True)\n",
    "scaled_x_test.set_index(test_gj_final.index, inplace=True)\n",
    "\n",
    "# 풍속 데이터에 대한 스케일링\n",
    "scaled_y_train = pd.DataFrame(scaler_target.fit_transform(train_target), columns = ['energy_kwh'])  # 풍속 스케일링\n",
    "scaled_y_test = pd.DataFrame(scaler_target.transform(test_target), columns = ['energy_kwh'])       # 테스트 데이터도 변환\n",
    "\n",
    "scaled_y_train.set_index(train_gj.index, inplace=True)\n",
    "scaled_y_test.set_index(test_gj_final.index, inplace=True)\n",
    "\n",
    "# month, day, weekday\n",
    "scaled_x_train['month'] = scaled_x_train.index.month\n",
    "scaled_x_train['hour'] = scaled_x_train.index.hour\n",
    "\n",
    "scaled_x_test['month'] = scaled_x_test.index.month\n",
    "scaled_x_test['hour'] = scaled_x_test.index.hour\n",
    "\n",
    "scaled_y_train['month'] = scaled_y_train.index.month\n",
    "scaled_y_train['hour'] = scaled_y_train.index.hour\n",
    "\n",
    "scaled_y_test['month'] = scaled_y_test.index.month\n",
    "scaled_y_test['hour'] = scaled_y_test.index.hour\n",
    "\n",
    "\n",
    "# 훈련 데이터 및 테스트 데이터 생성\n",
    "X_train, y_train = create_features(feature = scaled_x_train, target = scaled_y_train, lookback = lookback)\n",
    "X_test, y_test = create_features(feature = scaled_x_test, target = scaled_y_test, lookback = lookback)\n",
    "\n",
    "# RandomForestRegressor 모델 훈련\n",
    "rf_model = RandomForestRegressor(n_estimators=500, random_state=0)\n",
    "rf_model.fit(X_train, y_train)\n",
    "\n",
    "# 테스트 데이터에 대한 예측\n",
    "pred_rf = rf_model.predict(X_test)\n",
    "\n",
    "y_test = scaler_target.inverse_transform(y_test)\n",
    "pred_rf = scaler_target.inverse_transform(pred_rf)\n",
    "\n",
    "# 데이터프레임화\n",
    "target_df = pd.DataFrame(pred_rf)\n",
    "\n",
    "# 다음날 24시간 데이터만 뽑기\n",
    "target_filtered = target_df.iloc[:, -24:]\n",
    "target_reshaped = target_filtered.values.flatten()\n",
    "target_transposed_pred = target_reshaped.transpose()\n",
    "\n",
    "# 다시 한번 데이터 프레임화\n",
    "gj_final = pd.DataFrame(target_transposed_pred, columns=['pred_energy'])\n",
    "\n",
    "# 시간 컬럼 붙이기\n",
    "gj_final['dt'] = test_gj_final.index[lookback+24:]"
   ]
  },
  {
   "cell_type": "markdown",
   "metadata": {
    "id": "IPjGyZ_QIU6l"
   },
   "source": [
    "### (6) 제출 형식으로 변경"
   ]
  },
  {
   "cell_type": "code",
   "execution_count": null,
   "metadata": {
    "id": "Mj6puplgIU6l"
   },
   "outputs": [],
   "source": [
    "# 제출형식으로 변경\n",
    "pred_y.reset_index(inplace=True)\n",
    "pred_y['plant_name'] = '경주풍력'\n",
    "pred_y['period_hours'] = 1\n",
    "\n",
    "pred_gj = pred_y[['plant_name', 'dt', 'period_hours', 'predicted_energy_kwh']]\n",
    "pred_gj.columns = ['plant_name', 'end_datetime', 'period_hours', 'energy_kwh']"
   ]
  },
  {
   "cell_type": "markdown",
   "metadata": {
    "id": "J628abGRIU6l"
   },
   "source": [
    "## 4. 예측 데이터 저장"
   ]
  },
  {
   "cell_type": "code",
   "execution_count": null,
   "metadata": {
    "id": "NA4mQBfIIU6l"
   },
   "outputs": [],
   "source": [
    "pred = pd.concat([pred_yg, pred_gj])"
   ]
  },
  {
   "cell_type": "code",
   "execution_count": null,
   "metadata": {
    "id": "cDtTa5JJIU6l"
   },
   "outputs": [],
   "source": [
    "pred.to_csV(os.path.join('WINDmin_result.csv'), encoding='cp949',index=False)"
   ]
  }
 ],
 "metadata": {
  "colab": {
   "provenance": []
  },
  "kernelspec": {
   "display_name": "Python 3 (ipykernel)",
   "language": "python",
   "name": "python3"
  },
  "language_info": {
   "codemirror_mode": {
    "name": "ipython",
    "version": 3
   },
   "file_extension": ".py",
   "mimetype": "text/x-python",
   "name": "python",
   "nbconvert_exporter": "python",
   "pygments_lexer": "ipython3",
   "version": "3.12.4"
  }
 },
 "nbformat": 4,
 "nbformat_minor": 4
}
